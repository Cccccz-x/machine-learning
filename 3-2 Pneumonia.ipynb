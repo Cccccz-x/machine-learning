{
 "cells": [
  {
   "cell_type": "code",
   "execution_count": 12,
   "id": "89e74be0",
   "metadata": {},
   "outputs": [],
   "source": [
    "train_root = \"chest_xray/train\"\n",
    "test_root = \"chest_xray/test\"\n"
   ]
  },
  {
   "cell_type": "code",
   "execution_count": 13,
   "id": "41a1bd04",
   "metadata": {},
   "outputs": [
    {
     "name": "stdout",
     "output_type": "stream",
     "text": [
      "Found 5216 images belonging to 2 classes.\n",
      "Found 624 images belonging to 2 classes.\n"
     ]
    }
   ],
   "source": [
    "from keras.preprocessing.image import ImageDataGenerator\n",
    "# nvidia-smi \n",
    "batch_size = 20\n",
    "\n",
    "Generator = ImageDataGenerator()\n",
    "train_data = Generator.flow_from_directory(\n",
    "    train_root, (150, 150), batch_size=batch_size)\n",
    "test_data = Generator.flow_from_directory(\n",
    "    test_root, (150, 150), batch_size=batch_size,shuffle= False)\n",
    "import os\n",
    "import tensorflow as tf\n",
    "num_classes = len([i for i in os.listdir(train_root)])"
   ]
  },
  {
   "cell_type": "code",
   "execution_count": 14,
   "id": "b7cfec7e",
   "metadata": {},
   "outputs": [
    {
     "name": "stdout",
     "output_type": "stream",
     "text": [
      "Model: \"sequential_2\"\n",
      "_________________________________________________________________\n",
      " Layer (type)                Output Shape              Param #   \n",
      "=================================================================\n",
      " conv2d_8 (Conv2D)           (None, 148, 148, 32)      896       \n",
      "                                                                 \n",
      " max_pooling2d_8 (MaxPooling  (None, 74, 74, 32)       0         \n",
      " 2D)                                                             \n",
      "                                                                 \n",
      " dropout_12 (Dropout)        (None, 74, 74, 32)        0         \n",
      "                                                                 \n",
      " conv2d_9 (Conv2D)           (None, 72, 72, 32)        9248      \n",
      "                                                                 \n",
      " max_pooling2d_9 (MaxPooling  (None, 36, 36, 32)       0         \n",
      " 2D)                                                             \n",
      "                                                                 \n",
      " dropout_13 (Dropout)        (None, 36, 36, 32)        0         \n",
      "                                                                 \n",
      " conv2d_10 (Conv2D)          (None, 34, 34, 64)        18496     \n",
      "                                                                 \n",
      " max_pooling2d_10 (MaxPoolin  (None, 17, 17, 64)       0         \n",
      " g2D)                                                            \n",
      "                                                                 \n",
      " dropout_14 (Dropout)        (None, 17, 17, 64)        0         \n",
      "                                                                 \n",
      " conv2d_11 (Conv2D)          (None, 15, 15, 64)        36928     \n",
      "                                                                 \n",
      " max_pooling2d_11 (MaxPoolin  (None, 7, 7, 64)         0         \n",
      " g2D)                                                            \n",
      "                                                                 \n",
      " dropout_15 (Dropout)        (None, 7, 7, 64)          0         \n",
      "                                                                 \n",
      " flatten_2 (Flatten)         (None, 3136)              0         \n",
      "                                                                 \n",
      " dense_6 (Dense)             (None, 128)               401536    \n",
      "                                                                 \n",
      " dropout_16 (Dropout)        (None, 128)               0         \n",
      "                                                                 \n",
      " dense_7 (Dense)             (None, 64)                8256      \n",
      "                                                                 \n",
      " dropout_17 (Dropout)        (None, 64)                0         \n",
      "                                                                 \n",
      " dense_8 (Dense)             (None, 2)                 130       \n",
      "                                                                 \n",
      "=================================================================\n",
      "Total params: 475,490\n",
      "Trainable params: 475,490\n",
      "Non-trainable params: 0\n",
      "_________________________________________________________________\n"
     ]
    }
   ],
   "source": [
    "import keras\n",
    "from keras.datasets import mnist\n",
    "from keras.models import Sequential\n",
    "from keras.layers import Dense, Dropout, Flatten\n",
    "from keras.layers import Conv2D, MaxPooling2D\n",
    "\n",
    "model = Sequential()\n",
    "\n",
    "model.add(Conv2D(32, (3, 3), input_shape=(150, 150, 3), activation='relu'))\n",
    "model.add(MaxPooling2D(pool_size=(2, 2), strides=2))\n",
    "model.add(Dropout(0.3))\n",
    "\n",
    "model.add(Conv2D(32, (3, 3), activation='relu'))\n",
    "model.add(MaxPooling2D(pool_size=(2, 2), strides=2))\n",
    "model.add(Dropout(0.3))\n",
    "\n",
    "model.add(Conv2D(64, (3, 3),activation='relu'))\n",
    "model.add(MaxPooling2D(pool_size=(2, 2), strides=2))\n",
    "model.add(Dropout(0.2))\n",
    "\n",
    "model.add(Conv2D(64, (3, 3), activation='relu'))\n",
    "model.add(MaxPooling2D(pool_size=(2, 2), strides=2))\n",
    "model.add(Dropout(0.2))\n",
    "\n",
    "model.add(Flatten())\n",
    "\n",
    "model.add(Dense(128, activation='relu'))\n",
    "model.add(Dropout(0.2))\n",
    "\n",
    "model.add(Dense(64, activation='relu'))\n",
    "model.add(Dropout(0.2))\n",
    "\n",
    "model.add(Dense(num_classes, activation=\"softmax\"))\n",
    "model.summary()\n"
   ]
  },
  {
   "cell_type": "code",
   "execution_count": 15,
   "id": "36626685",
   "metadata": {},
   "outputs": [
    {
     "name": "stdout",
     "output_type": "stream",
     "text": [
      "261/261 [==============================] - 91s 346ms/step - loss: 2.0254 - accuracy: 0.7193\n"
     ]
    },
    {
     "data": {
      "text/plain": [
       "<keras.callbacks.History at 0x2a3897ff8e0>"
      ]
     },
     "execution_count": 15,
     "metadata": {},
     "output_type": "execute_result"
    }
   ],
   "source": [
    "# remove optimizer if needed\n",
    "model.compile(loss=keras.losses.categorical_crossentropy,\n",
    "              optimizer=tf.keras.optimizers.Adam(), metrics=['accuracy'])\n",
    "model.fit(train_data, batch_size=batch_size, epochs=1)\n"
   ]
  },
  {
   "cell_type": "code",
   "execution_count": 16,
   "id": "87b426c3",
   "metadata": {},
   "outputs": [
    {
     "name": "stdout",
     "output_type": "stream",
     "text": [
      "261/261 [==============================] - 43s 165ms/step - loss: 0.5819 - accuracy: 0.7941\n",
      "训练集准确率情况： 0.7940950989723206\n",
      "32/32 [==============================] - 5s 151ms/step - loss: 0.6221 - accuracy: 0.6474\n",
      "测试集准确率情况： 0.6474359035491943\n"
     ]
    }
   ],
   "source": [
    "score = model.evaluate(train_data)\n",
    "print(\"训练集准确率情况：\",score[1])\n",
    "import numpy as np\n",
    "pred = model.predict(test_data)\n",
    "pred=np.argmax(pred,axis=1)\n",
    "score = model.evaluate(test_data)\n",
    "print(\"测试集准确率情况：\",score[1])"
   ]
  },
  {
   "cell_type": "code",
   "execution_count": 17,
   "id": "d9b77cef",
   "metadata": {},
   "outputs": [
    {
     "name": "stdout",
     "output_type": "stream",
     "text": [
      "INFO:tensorflow:Assets written to: Pneumonia\\assets\n"
     ]
    }
   ],
   "source": [
    "from keras.models import save_model\n",
    "save_model(model, \"Pneumonia\")\n",
    "#model.save(\"C:/Users/SaltyFishEx/OneDrive/2-1/Flower/assets\", save_format=\"h5\")"
   ]
  },
  {
   "cell_type": "code",
   "execution_count": 19,
   "id": "72a69daa",
   "metadata": {},
   "outputs": [
    {
     "name": "stdout",
     "output_type": "stream",
     "text": [
      "(1, 150, 150, 3) [[0.44266954 0.5573304 ]]\n"
     ]
    }
   ],
   "source": [
    "from keras.models import load_model\n",
    "from PIL import Image\n",
    "import numpy as np\n",
    "\n",
    "model = load_model(\"Pneumonia\")\n",
    "\n",
    "import cv2\n",
    "image = cv2.imread(\"chest_xray/val/NORMAL/NORMAL2-IM-1442-0001.jpeg\")\n",
    "gray = cv2.cvtColor(image, cv2.COLOR_BGR2GRAY)\n",
    "img = cv2.merge([gray,gray,gray])\n",
    "\n",
    "img.resize((150,150,3))\n",
    "img = np.asarray(img, dtype=\"float32\") #need to transfer to np to reshape\n",
    "img = img.reshape(1, img.shape[0], img.shape[1], img.shape[2]) #rgb to reshape to 1,100,100,3\n",
    "pred=model.predict(img)\n",
    "print(img.shape , pred)"
   ]
  },
  {
   "cell_type": "code",
   "execution_count": null,
   "id": "70bc9828",
   "metadata": {},
   "outputs": [],
   "source": []
  }
 ],
 "metadata": {
  "kernelspec": {
   "display_name": "Python 3.10.0 64-bit",
   "language": "python",
   "name": "python3"
  },
  "language_info": {
   "codemirror_mode": {
    "name": "ipython",
    "version": 3
   },
   "file_extension": ".py",
   "mimetype": "text/x-python",
   "name": "python",
   "nbconvert_exporter": "python",
   "pygments_lexer": "ipython3",
   "version": "3.10.0"
  },
  "vscode": {
   "interpreter": {
    "hash": "865d8b2eb28e274047ba64063dfb6a2aabf0dfec4905d304d7a76618dae6fdd4"
   }
  }
 },
 "nbformat": 4,
 "nbformat_minor": 5
}
